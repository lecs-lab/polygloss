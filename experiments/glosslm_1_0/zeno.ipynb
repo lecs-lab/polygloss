{
 "cells": [
  {
   "attachments": {},
   "cell_type": "markdown",
   "metadata": {},
   "source": [
    "# Visualizing GlossLM results"
   ]
  },
  {
   "cell_type": "code",
   "execution_count": 3,
   "metadata": {},
   "outputs": [],
   "source": [
    "import pandas as pd\n",
    "import json\n",
    "import sys\n",
    "import os\n",
    "import yaml\n",
    "import tqdm\n",
    "from dotenv import load_dotenv\n",
    "import datasets\n",
    "import numpy as np\n",
    "\n",
    "import zeno_client"
   ]
  },
  {
   "cell_type": "markdown",
   "metadata": {},
   "source": [
    "## Authenticate and Create a Project"
   ]
  },
  {
   "cell_type": "code",
   "execution_count": 4,
   "metadata": {},
   "outputs": [],
   "source": [
    "# load the dotenv environment\n",
    "load_dotenv()\n",
    "\n",
    "client = zeno_client.ZenoClient(os.environ.get(\"ZENO_API_KEY\"))"
   ]
  },
  {
   "cell_type": "code",
   "execution_count": 5,
   "metadata": {},
   "outputs": [
    {
     "name": "stdout",
     "output_type": "stream",
     "text": [
      "Successfully updated project.\n",
      "Access your project at  https://hub.zenoml.com/project/ltjuatja/GlossLM-segmented\n"
     ]
    }
   ],
   "source": [
    "project = client.create_project(name=\"GlossLM-segmented\", \n",
    "                                view=\"space-separated-values\",\n",
    "                                metrics=[\n",
    "                                    zeno_client.ZenoMetric(name=\"Average MER\", type=\"mean\", columns=[\"MER\"]),\n",
    "                                    zeno_client.ZenoMetric(name=\"Average WER\", type=\"mean\", columns=[\"WER\"])\n",
    "                                ])"
   ]
  },
  {
   "attachments": {},
   "cell_type": "markdown",
   "metadata": {},
   "source": [
    "## Obtaining Data and Outputs"
   ]
  },
  {
   "attachments": {},
   "cell_type": "markdown",
   "metadata": {},
   "source": [
    "Separate segmented and unsegmented test data"
   ]
  },
  {
   "cell_type": "code",
   "execution_count": 6,
   "metadata": {},
   "outputs": [
    {
     "name": "stdout",
     "output_type": "stream",
     "text": [
      "DatasetDict({\n",
      "    train: Dataset({\n",
      "        features: ['transcription', 'glosses', 'translation', 'glottocode', 'id', 'source', 'metalang_glottocode', 'is_segmented', 'language', 'metalang'],\n",
      "        num_rows: 184336\n",
      "    })\n",
      "    train_ID: Dataset({\n",
      "        features: ['transcription', 'glosses', 'translation', 'glottocode', 'id', 'source', 'metalang_glottocode', 'is_segmented', 'language', 'metalang'],\n",
      "        num_rows: 52464\n",
      "    })\n",
      "    eval_ID: Dataset({\n",
      "        features: ['transcription', 'glosses', 'translation', 'glottocode', 'id', 'source', 'metalang_glottocode', 'is_segmented', 'language', 'metalang'],\n",
      "        num_rows: 5569\n",
      "    })\n",
      "    test_ID: Dataset({\n",
      "        features: ['transcription', 'glosses', 'translation', 'glottocode', 'id', 'source', 'metalang_glottocode', 'is_segmented', 'language', 'metalang'],\n",
      "        num_rows: 5970\n",
      "    })\n",
      "    train_OOD: Dataset({\n",
      "        features: ['transcription', 'glosses', 'translation', 'glottocode', 'id', 'source', 'metalang_glottocode', 'is_segmented', 'language', 'metalang'],\n",
      "        num_rows: 3670\n",
      "    })\n",
      "    eval_OOD: Dataset({\n",
      "        features: ['transcription', 'glosses', 'translation', 'glottocode', 'id', 'source', 'metalang_glottocode', 'is_segmented', 'language', 'metalang'],\n",
      "        num_rows: 492\n",
      "    })\n",
      "    test_OOD: Dataset({\n",
      "        features: ['transcription', 'glosses', 'translation', 'glottocode', 'id', 'source', 'metalang_glottocode', 'is_segmented', 'language', 'metalang'],\n",
      "        num_rows: 486\n",
      "    })\n",
      "})\n"
     ]
    }
   ],
   "source": [
    "dataset = datasets.load_dataset(\"lecslab/glosslm-split\")\n",
    "dataset = dataset.filter(lambda x: x[\"is_segmented\"] == 'yes')\n",
    "print(dataset)"
   ]
  },
  {
   "cell_type": "code",
   "execution_count": 7,
   "metadata": {},
   "outputs": [],
   "source": [
    "import re\n",
    "\n",
    "zeno_data = {x: list() for x in [\"data\", \"label\", \"glottocode\", \"id\", \"source\", \"language\", \"split\"]}\n",
    "for split in [\"test_ID\", \"test_OOD\"]:\n",
    "    for x in dataset[split]:\n",
    "        zeno_data[\"id\"].append(x['id'])\n",
    "        zeno_data[\"data\"].append(f\"id {x['id']}\\ntranscription {re.sub('-', '- ', x['transcription'])}\")\n",
    "        zeno_data[\"label\"].append(f\"gloss {re.sub('-', '- ', x['glosses'])}\")\n",
    "        zeno_data[\"source\"].append(x[\"source\"])\n",
    "        zeno_data[\"glottocode\"].append(x[\"glottocode\"])\n",
    "        zeno_data[\"language\"].append(x[\"language\"])\n",
    "        zeno_data[\"split\"].append(split)\n",
    "\n",
    "df = pd.DataFrame(zeno_data)"
   ]
  },
  {
   "cell_type": "code",
   "execution_count": 8,
   "metadata": {},
   "outputs": [
    {
     "name": "stdout",
     "output_type": "stream",
     "text": [
      "                                                data   \n",
      "0  id st_test_arap1274_0\\ntranscription 'oh hiiho...  \\\n",
      "1  id st_test_arap1274_1\\ntranscription nuhu' tih...   \n",
      "2  id st_test_arap1274_2\\ntranscription nehe' neb...   \n",
      "3  id st_test_arap1274_3\\ntranscription nooxeihi'...   \n",
      "4  id st_test_arap1274_4\\ntranscription beet- bet...   \n",
      "\n",
      "                                               label glottocode   \n",
      "0  gloss but 3.IMPERF.NEG- say.s.t.- pers.PL you ...   arap1274  \\\n",
      "1  gloss this when.PAST- speak- 3PL IC.tell.the.t...   arap1274   \n",
      "2  gloss this my.grandfather PAST.IMPERF- pause w...   arap1274   \n",
      "3  gloss maybe tomorrow FUT- REDUP- tell.a.story-...   arap1274   \n",
      "4  gloss want.to- dance- 2S.SUBJ why.in.the.heck!...   arap1274   \n",
      "\n",
      "                   id         source language    split  \n",
      "0  st_test_arap1274_0  sigmorphon_st  Arapaho  test_ID  \n",
      "1  st_test_arap1274_1  sigmorphon_st  Arapaho  test_ID  \n",
      "2  st_test_arap1274_2  sigmorphon_st  Arapaho  test_ID  \n",
      "3  st_test_arap1274_3  sigmorphon_st  Arapaho  test_ID  \n",
      "4  st_test_arap1274_4  sigmorphon_st  Arapaho  test_ID  \n"
     ]
    }
   ],
   "source": [
    "print(df.head())"
   ]
  },
  {
   "cell_type": "code",
   "execution_count": 9,
   "metadata": {},
   "outputs": [
    {
     "data": {
      "application/vnd.jupyter.widget-view+json": {
       "model_id": "e8d4e6df63f543c3914fc21727ffbbd6",
       "version_major": 2,
       "version_minor": 0
      },
      "text/plain": [
       "  0%|          | 0/2 [00:00<?, ?it/s]"
      ]
     },
     "metadata": {},
     "output_type": "display_data"
    },
    {
     "name": "stdout",
     "output_type": "stream",
     "text": [
      "Successfully uploaded data\n"
     ]
    }
   ],
   "source": [
    "project.upload_dataset(df, id_column=\"id\", data_column=\"data\", label_column=\"label\")"
   ]
  },
  {
   "cell_type": "markdown",
   "metadata": {},
   "source": [
    "# Specifying system outputs\n"
   ]
  },
  {
   "attachments": {},
   "cell_type": "markdown",
   "metadata": {},
   "source": [
    "Add system predictions"
   ]
  },
  {
   "cell_type": "code",
   "execution_count": 10,
   "metadata": {},
   "outputs": [
    {
     "data": {
      "text/html": [
       "<div>\n",
       "<style scoped>\n",
       "    .dataframe tbody tr th:only-of-type {\n",
       "        vertical-align: middle;\n",
       "    }\n",
       "\n",
       "    .dataframe tbody tr th {\n",
       "        vertical-align: top;\n",
       "    }\n",
       "\n",
       "    .dataframe thead th {\n",
       "        text-align: right;\n",
       "    }\n",
       "</style>\n",
       "<table border=\"1\" class=\"dataframe\">\n",
       "  <thead>\n",
       "    <tr style=\"text-align: right;\">\n",
       "      <th></th>\n",
       "      <th>ID</th>\n",
       "      <th>pred</th>\n",
       "      <th>is_segmented</th>\n",
       "      <th>glottocode</th>\n",
       "    </tr>\n",
       "  </thead>\n",
       "  <tbody>\n",
       "    <tr>\n",
       "      <th>0</th>\n",
       "      <td>st_test_arap1274_0</td>\n",
       "      <td>but 3.IMPERF.NEG-say.s.t.-pers.PL you know</td>\n",
       "      <td>yes</td>\n",
       "      <td>arap1274</td>\n",
       "    </tr>\n",
       "    <tr>\n",
       "      <th>2</th>\n",
       "      <td>st_test_arap1274_1</td>\n",
       "      <td>this when.PAST-speak-3PL IC.corrrect-3PL</td>\n",
       "      <td>yes</td>\n",
       "      <td>arap1274</td>\n",
       "    </tr>\n",
       "    <tr>\n",
       "      <th>4</th>\n",
       "      <td>st_test_arap1274_2</td>\n",
       "      <td>this 1S-grandfather PAST.IMPERF-pause what-say...</td>\n",
       "      <td>yes</td>\n",
       "      <td>arap1274</td>\n",
       "    </tr>\n",
       "    <tr>\n",
       "      <th>6</th>\n",
       "      <td>st_test_arap1274_3</td>\n",
       "      <td>maybe tomorrow FUT-REDUP-tell.a.story-3S Wayne...</td>\n",
       "      <td>yes</td>\n",
       "      <td>arap1274</td>\n",
       "    </tr>\n",
       "    <tr>\n",
       "      <th>8</th>\n",
       "      <td>st_test_arap1274_4</td>\n",
       "      <td>want.to-dance-2S.SUBJ why.in.the.heck!? it.is....</td>\n",
       "      <td>yes</td>\n",
       "      <td>arap1274</td>\n",
       "    </tr>\n",
       "  </tbody>\n",
       "</table>\n",
       "</div>"
      ],
      "text/plain": [
       "                   ID                                               pred   \n",
       "0  st_test_arap1274_0         but 3.IMPERF.NEG-say.s.t.-pers.PL you know  \\\n",
       "2  st_test_arap1274_1           this when.PAST-speak-3PL IC.corrrect-3PL   \n",
       "4  st_test_arap1274_2  this 1S-grandfather PAST.IMPERF-pause what-say...   \n",
       "6  st_test_arap1274_3  maybe tomorrow FUT-REDUP-tell.a.story-3S Wayne...   \n",
       "8  st_test_arap1274_4  want.to-dance-2S.SUBJ why.in.the.heck!? it.is....   \n",
       "\n",
       "  is_segmented glottocode  \n",
       "0          yes   arap1274  \n",
       "2          yes   arap1274  \n",
       "4          yes   arap1274  \n",
       "6          yes   arap1274  \n",
       "8          yes   arap1274  "
      ]
     },
     "execution_count": 10,
     "metadata": {},
     "output_type": "execute_result"
    }
   ],
   "source": [
    "df_system_id = pd.read_csv(\"/home/ltjuatja/glosslm/preds/byt5-translation-all/test_ID-preds.csv\")\n",
    "df_system_ood = pd.read_csv(\"/home/ltjuatja/glosslm/preds/byt5-translation-all/test_OOD-preds.csv\")\n",
    "df_system = pd.concat([df_system_id, df_system_ood])\n",
    "df_system = df_system.loc[df_system[\"is_segmented\"] == \"yes\"]\n",
    "\n",
    "df_system.head()"
   ]
  },
  {
   "cell_type": "code",
   "execution_count": 11,
   "metadata": {},
   "outputs": [],
   "source": [
    "test_dataset = datasets.concatenate_datasets([dataset[\"test_ID\"], dataset[\"test_OOD\"]])"
   ]
  },
  {
   "cell_type": "code",
   "execution_count": 19,
   "metadata": {},
   "outputs": [
    {
     "data": {
      "text/html": [
       "<div>\n",
       "<style scoped>\n",
       "    .dataframe tbody tr th:only-of-type {\n",
       "        vertical-align: middle;\n",
       "    }\n",
       "\n",
       "    .dataframe tbody tr th {\n",
       "        vertical-align: top;\n",
       "    }\n",
       "\n",
       "    .dataframe thead th {\n",
       "        text-align: right;\n",
       "    }\n",
       "</style>\n",
       "<table border=\"1\" class=\"dataframe\">\n",
       "  <thead>\n",
       "    <tr style=\"text-align: right;\">\n",
       "      <th></th>\n",
       "      <th>id</th>\n",
       "      <th>output</th>\n",
       "      <th>MER</th>\n",
       "      <th>WER</th>\n",
       "    </tr>\n",
       "  </thead>\n",
       "  <tbody>\n",
       "    <tr>\n",
       "      <th>0</th>\n",
       "      <td>st_test_arap1274_0</td>\n",
       "      <td>gloss but 3.IMPERF.NEG- say.s.t.- pers.PL you ...</td>\n",
       "      <td>0.000000</td>\n",
       "      <td>0.000000</td>\n",
       "    </tr>\n",
       "    <tr>\n",
       "      <th>2</th>\n",
       "      <td>st_test_arap1274_1</td>\n",
       "      <td>gloss this when.PAST- speak- 3PL IC.corrrect- 3PL</td>\n",
       "      <td>0.166667</td>\n",
       "      <td>0.333333</td>\n",
       "    </tr>\n",
       "    <tr>\n",
       "      <th>4</th>\n",
       "      <td>st_test_arap1274_2</td>\n",
       "      <td>gloss this 1S- grandfather PAST.IMPERF- pause ...</td>\n",
       "      <td>0.181818</td>\n",
       "      <td>0.200000</td>\n",
       "    </tr>\n",
       "    <tr>\n",
       "      <th>6</th>\n",
       "      <td>st_test_arap1274_3</td>\n",
       "      <td>gloss maybe tomorrow FUT- REDUP- tell.a.story-...</td>\n",
       "      <td>0.000000</td>\n",
       "      <td>0.000000</td>\n",
       "    </tr>\n",
       "    <tr>\n",
       "      <th>8</th>\n",
       "      <td>st_test_arap1274_4</td>\n",
       "      <td>gloss want.to- dance- 2S.SUBJ why.in.the.heck!...</td>\n",
       "      <td>0.000000</td>\n",
       "      <td>0.000000</td>\n",
       "    </tr>\n",
       "  </tbody>\n",
       "</table>\n",
       "</div>"
      ],
      "text/plain": [
       "                   id                                             output   \n",
       "0  st_test_arap1274_0  gloss but 3.IMPERF.NEG- say.s.t.- pers.PL you ...  \\\n",
       "2  st_test_arap1274_1  gloss this when.PAST- speak- 3PL IC.corrrect- 3PL   \n",
       "4  st_test_arap1274_2  gloss this 1S- grandfather PAST.IMPERF- pause ...   \n",
       "6  st_test_arap1274_3  gloss maybe tomorrow FUT- REDUP- tell.a.story-...   \n",
       "8  st_test_arap1274_4  gloss want.to- dance- 2S.SUBJ why.in.the.heck!...   \n",
       "\n",
       "        MER       WER  \n",
       "0  0.000000  0.000000  \n",
       "2  0.166667  0.333333  \n",
       "4  0.181818  0.200000  \n",
       "6  0.000000  0.000000  \n",
       "8  0.000000  0.000000  "
      ]
     },
     "execution_count": 19,
     "metadata": {},
     "output_type": "execute_result"
    }
   ],
   "source": [
    "from jiwer import wer\n",
    "\n",
    "def eval_error_rate(pred: list[str], gold: list[str]) -> float:\n",
    "    prediction = ' '.join(pred)\n",
    "    reference = ' '.join(gold)\n",
    "    return wer(reference, prediction)\n",
    "\n",
    "zeno_system_data = {x: list() for x in [\"id\", \"output\", \"MER\", \"WER\"]}\n",
    "zeno_system_data[\"id\"] = df_system[\"ID\"]\n",
    "preds = df_system['pred'].tolist()\n",
    "zeno_system_data[\"output\"] = [re.sub('-', '- ', str(pred)) for pred in preds]\n",
    "pred_morphs = [re.split(r\"\\s|-\", str(pred)) for pred in preds]\n",
    "pred_words = [str(pred).split() for pred in preds]\n",
    "gold_labels = test_dataset['glosses']\n",
    "gold_morphs = [re.split(r\"\\s|-\", str(gold_label)) for gold_label in gold_labels]\n",
    "gold_words = [str(gold_label).split() for gold_label in gold_labels]\n",
    "for pred, gold in zip(pred_morphs, gold_morphs):\n",
    "    zeno_system_data[\"MER\"].append(eval_error_rate(pred, gold))\n",
    "for pred, gold in zip(pred_words, gold_words):\n",
    "    zeno_system_data[\"WER\"].append(eval_error_rate(pred, gold))\n",
    "\n",
    "df_sys_outputs = pd.DataFrame(zeno_system_data)\n",
    "df_sys_outputs.head()"
   ]
  },
  {
   "cell_type": "code",
   "execution_count": 20,
   "metadata": {},
   "outputs": [
    {
     "data": {
      "application/vnd.jupyter.widget-view+json": {
       "model_id": "7686e668b08f414e8efabe6c7d0eea23",
       "version_major": 2,
       "version_minor": 0
      },
      "text/plain": [
       "  0%|          | 0/1 [00:00<?, ?it/s]"
      ]
     },
     "metadata": {},
     "output_type": "display_data"
    },
    {
     "name": "stdout",
     "output_type": "stream",
     "text": [
      "Successfully uploaded system\n"
     ]
    }
   ],
   "source": [
    "project.upload_system(df_sys_outputs, name=\"byt5-translation-all-base\", id_column=\"id\", output_column=\"output\")"
   ]
  },
  {
   "cell_type": "code",
   "execution_count": null,
   "metadata": {},
   "outputs": [],
   "source": []
  }
 ],
 "metadata": {
  "kernelspec": {
   "display_name": "text2gloss",
   "language": "python",
   "name": "python3"
  },
  "language_info": {
   "codemirror_mode": {
    "name": "ipython",
    "version": 3
   },
   "file_extension": ".py",
   "mimetype": "text/x-python",
   "name": "python",
   "nbconvert_exporter": "python",
   "pygments_lexer": "ipython3",
   "version": "3.10.10"
  },
  "orig_nbformat": 4,
  "vscode": {
   "interpreter": {
    "hash": "5610ed33feb80023cf806131156ff74c210278315bcbbe63d99876f30430ef5f"
   }
  }
 },
 "nbformat": 4,
 "nbformat_minor": 2
}
